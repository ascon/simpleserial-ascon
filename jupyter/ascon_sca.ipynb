{
 "cells": [
  {
   "cell_type": "markdown",
   "metadata": {},
   "source": [
    "# Evaluation of SCA-Protected Implementations of Ascon128\n",
    "\n",
    "- Plain SimpleSerial interface\n",
    "- Shared AEAD interface\n",
    "- STM32F4/STM32F3/STM32F0"
   ]
  },
  {
   "cell_type": "markdown",
   "metadata": {},
   "source": [
    "### Note\n",
    "\n",
    "- Make sure this jupyter script is located in the `jupyter` folder of your chipwhisperer installation.\n",
    "- Make sure https://github.com/ascon/simpleserial-ascon is checked out in `hardware/victims/firmware` of your chipwhisperer installation:\n",
    "```\n",
    "cd hardware/victims/firmware\n",
    "git clone https://github.com/ascon/simpleserial-ascon.git\n",
    "```\n",
    "- For more performance, set the baud rate to 230400 for SS_VER!=SS_VER_2_0 in e.g. `hardware/victims/firmware/hal/stm32f4/stm32f4_hal.c`:\n",
    "```\n",
    "UartHandle.Init.BaudRate = 230400;\n",
    "```"
   ]
  },
  {
   "cell_type": "markdown",
   "metadata": {},
   "source": [
    "## Setup Target Board"
   ]
  },
  {
   "cell_type": "code",
   "execution_count": null,
   "metadata": {},
   "outputs": [],
   "source": [
    "PLATFORM = 'CW308_STM32F4'\n",
    "CRYPTO_TARGET = 'NONE'\n",
    "SCOPETYPE = 'OPENADC'\n",
    "SS_VER = 'SS_VER_1_1'\n",
    "SS_SHARED = 0\n",
    "BAUD_RATE = 38400\n",
    "#BAUD_RATE = 230400\n",
    "DATA_LEN = 96\n",
    "RESP_LEN = 96"
   ]
  },
  {
   "cell_type": "markdown",
   "metadata": {},
   "source": [
    "## Detect Chipwhisperer Board"
   ]
  },
  {
   "cell_type": "code",
   "execution_count": null,
   "metadata": {},
   "outputs": [],
   "source": [
    "%run \"Setup_Scripts/Setup_Generic.ipynb\""
   ]
  },
  {
   "cell_type": "markdown",
   "metadata": {},
   "source": [
    "### Setup Target Algorithm"
   ]
  },
  {
   "cell_type": "code",
   "execution_count": null,
   "metadata": {},
   "outputs": [],
   "source": [
    "CRYPTO_PATH = 'crypto_aead/ascon128v12/protected_bi32_armv6'\n",
    "NUM_SHARES_KEY = 3\n",
    "NUM_SHARES_NPUB = 3\n",
    "NUM_SHARES_AD = 3\n",
    "NUM_SHARES_M = 3\n",
    "NUM_SHARES_C = 3\n",
    "ASCON_ROR_SHARES = 5\n",
    "ASCON_EXTERN_BI = 0\n",
    "ASCON_PA_ROUNDS = 12\n",
    "ASCON_PB_ROUNDS = 6\n",
    "TRACES = 10000000"
   ]
  },
  {
   "cell_type": "code",
   "execution_count": null,
   "metadata": {},
   "outputs": [],
   "source": [
    "EXTRA_OPTS = ' -DNUM_SHARES_KEY=' + str(NUM_SHARES_KEY)\n",
    "EXTRA_OPTS += ' -DNUM_SHARES_NPUB=' + str(NUM_SHARES_NPUB)\n",
    "EXTRA_OPTS += ' -DNUM_SHARES_AD=' + str(NUM_SHARES_AD)\n",
    "EXTRA_OPTS += ' -DNUM_SHARES_M=' + str(NUM_SHARES_M)\n",
    "EXTRA_OPTS += ' -DNUM_SHARES_C=' + str(NUM_SHARES_C)\n",
    "EXTRA_OPTS += ' -DASCON_ROR_SHARES=' + str(ASCON_ROR_SHARES)\n",
    "EXTRA_OPTS += ' -DASCON_EXTERN_BI=' + str(ASCON_EXTERN_BI)\n",
    "EXTRA_OPTS += ' -DASCON_PA_ROUNDS=' + str(ASCON_PA_ROUNDS)\n",
    "EXTRA_OPTS += ' -DASCON_PB_ROUNDS=' + str(ASCON_PB_ROUNDS)\n",
    "EXTRA_OPTS += ' -DSS_SHARED=' + str(SS_SHARED)\n",
    "EXTRA_OPTS += ' -DDATA_LEN=' + str(DATA_LEN)\n",
    "EXTRA_OPTS += ' -DRESP_LEN=' + str(RESP_LEN)"
   ]
  },
  {
   "cell_type": "markdown",
   "metadata": {},
   "source": [
    "## Compile"
   ]
  },
  {
   "cell_type": "code",
   "execution_count": null,
   "metadata": {},
   "outputs": [],
   "source": [
    "%%bash -s \"$SS_VER\" \"$PLATFORM\" \"$CRYPTO_TARGET\" \"$CRYPTO_PATH\" \"$EXTRA_OPTS\"\n",
    "cd ../hardware/victims/firmware/simpleserial-ascon\n",
    "rm -rf objdir-$2/Implementations/$4 objdir/Implementations/$4 objdir .dep\n",
    "mkdir -p objdir-$2/Implementations/$4 objdir/Implementations/$4\n",
    "make SS_VER=$1 PLATFORM=$2 CRYPTO_TARGET=$3 CRYPTO_PATH=$4 EXTRA_OPTS=\"$5\""
   ]
  },
  {
   "cell_type": "markdown",
   "metadata": {},
   "source": [
    "## Flash Binary on the Victim Board\n",
    "\n",
    "**Note:** If you use a STM32F target board of Revision-02 then you first need to set a specific jumper cable on the UFO board for the following code to work.\n",
    "\n",
    "For more information have a look here: https://rtfm.newae.com/Targets/UFO%20Targets/CW308T-STM32F/"
   ]
  },
  {
   "cell_type": "code",
   "execution_count": null,
   "metadata": {},
   "outputs": [],
   "source": [
    "HEXFILE = \"../hardware/victims/firmware/simpleserial-ascon/simpleserial-ascon-\" + PLATFORM + \".hex\"\n",
    "cw.program_target(scope, prog, HEXFILE)"
   ]
  },
  {
   "cell_type": "markdown",
   "metadata": {},
   "source": [
    "## Communication Test"
   ]
  },
  {
   "cell_type": "code",
   "execution_count": null,
   "metadata": {},
   "outputs": [],
   "source": [
    "target.flush()\n",
    "target.baud = BAUD_RATE\n",
    "\n",
    "print('Baudrate:')\n",
    "print(target.baud)\n",
    "\n",
    "print('Available Commands:')\n",
    "print(*target.get_simpleserial_commands(),sep = \"\\n\")"
   ]
  },
  {
   "cell_type": "markdown",
   "metadata": {},
   "source": [
    "## Echo Test"
   ]
  },
  {
   "cell_type": "code",
   "execution_count": null,
   "metadata": {},
   "outputs": [],
   "source": [
    "import time\n",
    "\n",
    "CMD_ECHO_TEST = 'e'\n",
    "\n",
    "data = bytearray.fromhex(''.join('{:02x}'.format(x) for x in list(range(DATA_LEN))))\n",
    "\n",
    "target.flush()\n",
    "target.simpleserial_write(CMD_ECHO_TEST,data)\n",
    "time.sleep(0.1)\n",
    "response = target.simpleserial_read('r', RESP_LEN, end='\\n', timeout=250, ack=True)\n",
    "\n",
    "print(list(response))"
   ]
  },
  {
   "cell_type": "markdown",
   "metadata": {},
   "source": [
    "## Interface Constants"
   ]
  },
  {
   "cell_type": "code",
   "execution_count": null,
   "metadata": {},
   "outputs": [],
   "source": [
    "import numpy as np\n",
    "import random\n",
    "\n",
    "# Command\n",
    "CMD_ASCON = 'a'\n",
    "CMD_ECHO_TEST = 'e'\n",
    "\n",
    "# Flags\n",
    "M = 0x01              # data contains message \n",
    "C = 0x02              # data contains ciphertext\n",
    "A = 0x04              # data contains associated data\n",
    "N = 0x08              # data contains nonce\n",
    "K = 0x10              # data contains key\n",
    "RUN_ENC = 0x20        # run enc after data transmission\n",
    "RUN_DEC = 0x40        # run dec after data transmission\n",
    "OMIT_RESULT = 0x80    # omit returning result after encryption/decryption"
   ]
  },
  {
   "cell_type": "markdown",
   "metadata": {},
   "source": [
    "## Encryption:  `mlen = 0`, `alen = 0`"
   ]
  },
  {
   "cell_type": "code",
   "execution_count": null,
   "metadata": {},
   "outputs": [],
   "source": [
    "# Define input data\n",
    "m = bytearray.fromhex('')\n",
    "a = bytearray.fromhex('')\n",
    "n = bytearray.fromhex('000102030405060708090a0b0c0d0e0f')\n",
    "k = bytearray.fromhex('000102030405060708090a0b0c0d0e0f')\n",
    "\n",
    "# Send nonce and key\n",
    "data = bytearray([N|K])\n",
    "data += n\n",
    "data += k\n",
    "assert(len(data) <= DATA_LEN)\n",
    "data += bytearray.fromhex('00'*(DATA_LEN-len(data)))\n",
    "target.flush()\n",
    "target.simpleserial_write(CMD_ASCON,data)\n",
    "time.sleep(0.1)\n",
    "\n",
    "# Send and receive data\n",
    "data = bytearray([M|A|RUN_ENC])\n",
    "data += bytearray([len(m)]) + m\n",
    "data += bytearray([len(a)]) + a\n",
    "assert(len(data) <= DATA_LEN)\n",
    "data += bytearray.fromhex('00'*(DATA_LEN-len(data)))\n",
    "target.flush()\n",
    "target.simpleserial_write(CMD_ASCON,data)\n",
    "time.sleep(0.1)\n",
    "response = target.simpleserial_read('r', RESP_LEN, end='\\n', timeout=250, ack=True)\n",
    "\n",
    "# Extract and print response\n",
    "c = response[0:len(m)]\n",
    "t = response[len(m):len(m) + 16]\n",
    "print('c: ' + ''.join('{:02x}'.format(x) for x in c[:len(m)]))\n",
    "print('t: ' + ''.join('{:02x}'.format(x) for x in t))"
   ]
  },
  {
   "cell_type": "markdown",
   "metadata": {},
   "source": [
    "## Encryption:  `mlen = 4`, `alen = 4`"
   ]
  },
  {
   "cell_type": "code",
   "execution_count": null,
   "metadata": {},
   "outputs": [],
   "source": [
    "# Define input data\n",
    "m = bytearray.fromhex('00010203')\n",
    "a = bytearray.fromhex('00010203')\n",
    "n = bytearray.fromhex('000102030405060708090a0b0c0d0e0f')\n",
    "k = bytearray.fromhex('000102030405060708090a0b0c0d0e0f')\n",
    "\n",
    "# Send nonce and key\n",
    "data = bytearray([N|K])\n",
    "data += n\n",
    "data += k\n",
    "assert(len(data) <= DATA_LEN)\n",
    "data += bytearray.fromhex('00'*(DATA_LEN-len(data)))\n",
    "target.flush()\n",
    "target.simpleserial_write(CMD_ASCON,data)\n",
    "time.sleep(0.1)\n",
    "\n",
    "# Send and receive data\n",
    "data = bytearray([M|A|RUN_ENC])\n",
    "data += bytearray([len(m)]) + m\n",
    "data += bytearray([len(a)]) + a\n",
    "assert(len(data) <= DATA_LEN)\n",
    "data += bytearray.fromhex('00'*(DATA_LEN-len(data)))\n",
    "target.flush()\n",
    "target.simpleserial_write(CMD_ASCON,data)\n",
    "time.sleep(0.1)\n",
    "response = target.simpleserial_read('r', RESP_LEN, end='\\n', timeout=250, ack=True)\n",
    "\n",
    "# Extract and print response\n",
    "c = response[0:len(m)]\n",
    "t = response[len(m):len(m) + 16]\n",
    "print('c: ' + ''.join('{:02x}'.format(x) for x in c[:len(m)]))\n",
    "print('t: ' + ''.join('{:02x}'.format(x) for x in t))"
   ]
  },
  {
   "cell_type": "markdown",
   "metadata": {},
   "source": [
    "## Decryption, `clen = 0`, `alen = 0`"
   ]
  },
  {
   "cell_type": "code",
   "execution_count": null,
   "metadata": {},
   "outputs": [],
   "source": [
    "# Define input data\n",
    "c = bytearray.fromhex('e355159f292911f794cb1432a0103a8a')\n",
    "a = bytearray.fromhex('')\n",
    "n = bytearray.fromhex('000102030405060708090a0b0c0d0e0f')\n",
    "k = bytearray.fromhex('000102030405060708090a0b0c0d0e0f')\n",
    "\n",
    "# Send nonce and key\n",
    "data = bytearray([N|K])\n",
    "data += n\n",
    "data += k\n",
    "assert(len(data) <= DATA_LEN)\n",
    "data += bytearray.fromhex('00'*(DATA_LEN-len(data)))\n",
    "target.flush()\n",
    "target.simpleserial_write(CMD_ASCON,data)\n",
    "time.sleep(0.1)\n",
    "\n",
    "# Send and receive data\n",
    "data = bytearray([C|A|RUN_DEC])\n",
    "data += bytearray([len(c)]) + c[0:-16] + c[-16:]\n",
    "data += bytearray([len(a)]) + a\n",
    "assert(len(data) <= DATA_LEN)\n",
    "data += bytearray.fromhex('00'*(DATA_LEN-len(data)))\n",
    "target.flush()\n",
    "target.simpleserial_write(CMD_ASCON,data)\n",
    "time.sleep(0.1)\n",
    "response = target.simpleserial_read('r', RESP_LEN, end='\\n', timeout=250, ack=True)\n",
    "\n",
    "# Extract and print response\n",
    "result = response[0]\n",
    "m = response[1:1+len(c)-16]\n",
    "print('r: ' + '{:02x}'.format(result))\n",
    "print('m: ' + ''.join('{:02x}'.format(x) for x in m))"
   ]
  },
  {
   "cell_type": "markdown",
   "metadata": {},
   "source": [
    "## Decryption, `clen = 4`, `alen = 4`"
   ]
  },
  {
   "cell_type": "code",
   "execution_count": null,
   "metadata": {},
   "outputs": [],
   "source": [
    "# Define input data\n",
    "c = bytearray.fromhex('7763f8ba02b1e06bc3f2370da5b314302543e9d0')\n",
    "a = bytearray.fromhex('00010203')\n",
    "n = bytearray.fromhex('000102030405060708090a0b0c0d0e0f')\n",
    "k = bytearray.fromhex('000102030405060708090a0b0c0d0e0f')\n",
    "\n",
    "# Send nonce and key\n",
    "data = bytearray([N|K])\n",
    "data += n\n",
    "data += k\n",
    "assert(len(data) <= DATA_LEN)\n",
    "data += bytearray.fromhex('00'*(DATA_LEN-len(data)))\n",
    "target.flush()\n",
    "target.simpleserial_write(CMD_ASCON,data)\n",
    "time.sleep(0.1)\n",
    "\n",
    "# Send and receive data\n",
    "data = bytearray([C|A|RUN_DEC])\n",
    "data += bytearray([len(c)]) + c[0:-16] + c[-16:]\n",
    "data += bytearray([len(a)]) + a\n",
    "assert(len(data) <= DATA_LEN)\n",
    "data += bytearray.fromhex('00'*(DATA_LEN-len(data)))\n",
    "target.flush()\n",
    "target.simpleserial_write(CMD_ASCON,data)\n",
    "time.sleep(0.1)\n",
    "response = target.simpleserial_read('r', RESP_LEN, end='\\n', timeout=250, ack=True)\n",
    "\n",
    "# Extract and print response\n",
    "result = response[0]\n",
    "m = response[1:1+len(c)-16]\n",
    "print('r: ' + '{:02x}'.format(result))\n",
    "print('m: ' + ''.join('{:02x}'.format(x) for x in m[:len(c)-16]))"
   ]
  },
  {
   "cell_type": "markdown",
   "metadata": {},
   "source": [
    "## Sweep: Encryption/Decryption,  `mlen = 0...7`, `alen = 0...7`"
   ]
  },
  {
   "cell_type": "code",
   "execution_count": null,
   "metadata": {},
   "outputs": [],
   "source": [
    "m = bytearray.fromhex('000102030405060708090a0b0c0d0e0f')\n",
    "a = bytearray.fromhex('000102030405060708090a0b0c0d0e0f')\n",
    "n = bytearray.fromhex('000102030405060708090a0b0c0d0e0f')\n",
    "k = bytearray.fromhex('000102030405060708090a0b0c0d0e0f')\n",
    "\n",
    "target.flush()\n",
    "\n",
    "for mlen in range(8):\n",
    "    for alen in range(8):\n",
    "        print('mlen: {}, alen: {}'.format(mlen,alen), end='')\n",
    "        #print(' m: ' + ''.join('{:02x}'.format(x) for x in m[:mlen]), end='')\n",
    "        #print(' a: ' + ''.join('{:02x}'.format(x) for x in a[:alen]), end='')\n",
    "        # Send key and nonce #\n",
    "        data = bytearray([N|K])\n",
    "        data += n\n",
    "        data += k\n",
    "        assert(len(data) <= DATA_LEN)\n",
    "        data_pad = bytearray.fromhex('00'*DATA_LEN)\n",
    "        data_pad[:len(data)] = data\n",
    "        target.flush()\n",
    "        target.simpleserial_write(CMD_ASCON,data_pad)\n",
    "        time.sleep(0.1)\n",
    "        # Encrypt #\n",
    "        data = bytearray([M|A|RUN_ENC])\n",
    "        data += bytearray([mlen]) + m[:mlen]\n",
    "        data += bytearray([alen]) + a[:alen]\n",
    "        assert(len(data) <= DATA_LEN)\n",
    "        data += bytearray.fromhex('00'*(DATA_LEN-len(data)))\n",
    "        target.flush()\n",
    "        target.simpleserial_write(CMD_ASCON,data)\n",
    "        time.sleep(0.1)\n",
    "        response = target.simpleserial_read('r', RESP_LEN, end='\\n', timeout=250, ack=True)\n",
    "        c = response[0:mlen]\n",
    "        t = response[mlen:mlen + 16]\n",
    "        print(' c: ' + ''.join('{:02x}'.format(x) for x in c[:mlen]), end='')\n",
    "        print(' t: ' + ''.join('{:02x}'.format(x) for x in t), end='')\n",
    "        # Decrypt #\n",
    "        c = c[:mlen] + t\n",
    "        data = bytearray([C|A|RUN_DEC])\n",
    "        data += bytearray([len(c)]) + c[0:-16] + c[-16:]\n",
    "        data += bytearray([alen]) + a[:alen]\n",
    "        assert(len(data) <= DATA_LEN)\n",
    "        data += bytearray.fromhex('00'*(DATA_LEN-len(data)))\n",
    "        target.flush()\n",
    "        target.simpleserial_write(CMD_ASCON,data)\n",
    "        time.sleep(0.1)\n",
    "        response = target.simpleserial_read('r', RESP_LEN, end='\\n', timeout=250, ack=True)\n",
    "        result = response[0]\n",
    "        mr = response[1:1+mlen]\n",
    "        print(' r: ' + '{:02x}'.format(result), end='')\n",
    "        print(' m: ' + ''.join('{:02x}'.format(x) for x in mr[:len(c)-16]), end='')\n",
    "        assert(result == 0)\n",
    "        print(' -> OK')"
   ]
  },
  {
   "cell_type": "markdown",
   "metadata": {},
   "source": [
    "## T-Test: Encryption, `mlen = 4`, `alen = 4`"
   ]
  },
  {
   "cell_type": "code",
   "execution_count": null,
   "metadata": {},
   "outputs": [],
   "source": [
    "%matplotlib inline\n",
    "import matplotlib.pyplot as plt\n",
    "import numpy as np\n",
    "import random\n",
    "import pathlib\n",
    "from tqdm import tqdm\n",
    "\n",
    "# Measurement settings\n",
    "traces = TRACES\n",
    "samples_per_trace = 24400\n",
    "\n",
    "# Variables for one-pass 1st-order t-test\n",
    "n_fix = 0\n",
    "n_rnd = 0\n",
    "S1_fix = np.zeros((samples_per_trace,),dtype=np.double)\n",
    "S1_rnd = np.zeros((samples_per_trace,),dtype=np.double)\n",
    "S2_fix = np.zeros((samples_per_trace,),dtype=np.double)\n",
    "S2_rnd = np.zeros((samples_per_trace,),dtype=np.double)\n",
    "\n",
    "# Define input data\n",
    "m = bytearray.fromhex('00010203')\n",
    "a = bytearray.fromhex('00010203')\n",
    "n = bytearray.fromhex('000102030405060708090a0b0c0d0e0f')\n",
    "k = bytearray.fromhex('000102030405060708090a0b0c0d0e0f')\n",
    "c = bytearray.fromhex('000102030405060708090a0b0c0d0e0f10111213')\n",
    "\n",
    "flags = M|A|N|K|RUN_ENC|OMIT_RESULT\n",
    "#flags = C|A|N|K|RUN_DEC|OMIT_RESULT\n",
    "\n",
    "target.flush()\n",
    "scope.adc.samples = samples_per_trace\n",
    "scope.clock.adc_src = 'clkgen_x4'\n",
    "\n",
    "progress = sorted(set([1000, 2000, 5000, 10000, 20000, 50000, 100000, 200000, 500000, traces]))\n",
    "for i in tqdm(range(traces)):\n",
    "    # Setup data #\n",
    "    data = bytearray([flags])\n",
    "    coinflip = random.getrandbits(1)\n",
    "    if coinflip:\n",
    "        # Fix input\n",
    "        if flags & RUN_ENC:\n",
    "            data += bytearray([len(m)])\n",
    "            data += m\n",
    "        if flags & RUN_DEC:\n",
    "            data += bytearray([len(c)])\n",
    "            data += c[0:-16]\n",
    "            data += c[-16:]\n",
    "        data += bytearray([len(a)])\n",
    "        data += a\n",
    "        data += n\n",
    "    else:\n",
    "        # Random input\n",
    "        if flags & RUN_ENC:\n",
    "            data += bytearray([len(m)]) \n",
    "            data += bytearray((random.getrandbits(8) for x in range(len(m))))\n",
    "        if flags & RUN_DEC:\n",
    "            data += bytearray([len(c)])\n",
    "            data += bytearray((random.getrandbits(8) for x in range(len(c)-16)))\n",
    "            data += bytearray((random.getrandbits(8) for x in range(16)))\n",
    "        data += bytearray([len(a)])\n",
    "        data += bytearray((random.getrandbits(8) for x in range(len(a))))\n",
    "        data += bytearray((random.getrandbits(8) for x in range(len(n))))\n",
    "    data += k\n",
    "    if len(data) > DATA_LEN:\n",
    "        print(len(data))\n",
    "    assert(len(data) <= DATA_LEN)\n",
    "    data += bytearray.fromhex('00'*(DATA_LEN-len(data)))\n",
    "    # Measure trace #\n",
    "    scope.arm()\n",
    "    target.simpleserial_write(CMD_ASCON,data)\n",
    "    scope.capture()\n",
    "    trace = scope.get_last_trace()\n",
    "    if i == 0:\n",
    "        samples_per_trace = min(scope.adc.trig_count,samples_per_trace)\n",
    "    # Process trace #\n",
    "    if coinflip:\n",
    "        n_fix += 1\n",
    "        S1_fix += trace\n",
    "        S2_fix += np.square(trace)\n",
    "    else:\n",
    "        n_rnd += 1\n",
    "        S1_rnd += trace\n",
    "        S2_rnd += np.square(trace)\n",
    "    if i+1 in progress or (i+1)%1000000 == 0:\n",
    "        print(\"samples: \" + str(scope.adc.trig_count))\n",
    "        # Generate t-test plot\n",
    "        mu_fix = S1_fix/n_fix\n",
    "        mu_rnd = S1_rnd/n_rnd\n",
    "        var_fix = S2_fix/n_fix - np.square(mu_fix)\n",
    "        var_rnd = S2_rnd/n_rnd - np.square(mu_rnd)\n",
    "        tscore = np.divide((mu_fix - mu_rnd),np.sqrt(var_fix/n_fix + var_rnd/n_rnd))\n",
    "        tscore = tscore[:samples_per_trace]\n",
    "        plt.figure(figsize=(16,9))\n",
    "        plt.plot(tscore)\n",
    "        plt.plot([0,len(tscore)-1],[4.5,4.5],'r-')\n",
    "        plt.plot([0,len(tscore)-1],[-4.5,-4.5],'r-')\n",
    "        plt.title(str(n_fix+n_rnd))\n",
    "        plt.xlim((0,len(tscore)))\n",
    "        plt.ylim((-10,10))\n",
    "        pathlib.Path(\"ttest/\" + PLATFORM).mkdir(parents=True, exist_ok=True)\n",
    "        plt.savefig(\"ttest/\" + PLATFORM + \"/{}.png\".format(n_fix+n_rnd))\n",
    "        plt.show()"
   ]
  },
  {
   "cell_type": "code",
   "execution_count": null,
   "metadata": {},
   "outputs": [],
   "source": [
    "print(\"samples: \" + str(scope.adc.trig_count))\n",
    "print(\"cycles:  \" + str(scope.adc.trig_count//4))"
   ]
  },
  {
   "cell_type": "markdown",
   "metadata": {},
   "source": [
    "## Disconnect from Board"
   ]
  },
  {
   "cell_type": "code",
   "execution_count": null,
   "metadata": {},
   "outputs": [],
   "source": [
    "scope.dis()\n",
    "target.dis()"
   ]
  }
 ],
 "metadata": {
  "kernelspec": {
   "display_name": "Python 3",
   "language": "python",
   "name": "python3"
  },
  "language_info": {
   "codemirror_mode": {
    "name": "ipython",
    "version": 3
   },
   "file_extension": ".py",
   "mimetype": "text/x-python",
   "name": "python",
   "nbconvert_exporter": "python",
   "pygments_lexer": "ipython3",
   "version": "3.7.4"
  }
 },
 "nbformat": 4,
 "nbformat_minor": 2
}
